{
 "cells": [
  {
   "cell_type": "code",
   "execution_count": 5,
   "metadata": {},
   "outputs": [],
   "source": [
    "import requests\n",
    "import time\n",
    "import json\n",
    "import pandas as pd "
   ]
  },
  {
   "cell_type": "code",
   "execution_count": 11,
   "metadata": {},
   "outputs": [
    {
     "name": "stdout",
     "output_type": "stream",
     "text": [
      "{'محله': 'shahrak-golha', 'طبقه': '۲', 'سال ساخت': '۱۴۰۲', 'تعداد اتاق': '۳', 'متراژ': '۱۳۰', 'آسانسور': True, 'پارکینگ': True, 'انباری': True, 'قیمت کل': 20500000768, 'قیمت هر متر ': '۱۵۷٬۶۹۲٬۰۰۰ تومان', 'نقطه عرضی': 35.802945666419, 'نقطه طولی': 51.495905326308}\n",
      "{'محله': 'marzdaran', 'طبقه': '۳', 'سال ساخت': '۱۳۸۸', 'تعداد اتاق': '۳', 'متراژ': '۱۲۵', 'آسانسور': True, 'پارکینگ': True, 'انباری': True, 'قیمت کل': 15800000512, 'قیمت هر متر ': '۱۲۶٬۴۰۰٬۰۰۰ تومان', 'نقطه عرضی': 35.738593733094, 'نقطه طولی': 51.338201792788}\n",
      "{'محله': 'dr-hoshyar', 'طبقه': '۲ از ۴', 'سال ساخت': '۱۳۹۵', 'تعداد اتاق': '۲', 'متراژ': '۷۲', 'آسانسور': True, 'پارکینگ': True, 'انباری': True, 'قیمت کل': 4100000000, 'قیمت هر متر ': '۵۶٬۹۴۴٬۰۰۰ تومان', 'نقطه عرضی': 35.691724996087, 'نقطه طولی': 51.345850078661}\n",
      "{'محله': 'poonak', 'طبقه': '۱ از ۵', 'سال ساخت': '۱۳۹۱', 'تعداد اتاق': '۱', 'متراژ': '۶۵', 'آسانسور': True, 'پارکینگ': True, 'انباری': True, 'قیمت کل': 7000000000, 'قیمت هر متر ': '۱۰۷٬۶۹۲٬۰۰۰ تومان', 'نقطه عرضی': 'ندارد', 'نقطه طولی': 'ندارد'}\n",
      "{'محله': 'shadabad', 'طبقه': '۲ از ۵', 'سال ساخت': '۱۴۰۳', 'تعداد اتاق': '۲', 'متراژ': '۱۱۸', 'آسانسور': True, 'پارکینگ': True, 'انباری': True, 'قیمت کل': 6300000256, 'قیمت هر متر ': '۵۳٬۳۸۹٬۰۰۰ تومان', 'نقطه عرضی': 35.652259962759, 'نقطه طولی': 51.298869991933}\n",
      "{'محله': 'velenjak', 'طبقه': '۷ از ۱۰', 'سال ساخت': '۱۴۰۳', 'تعداد اتاق': '۳', 'متراژ': '۱۵۰', 'آسانسور': True, 'پارکینگ': True, 'انباری': True, 'قیمت کل': 35999997952, 'قیمت هر متر ': '۲۴۰٬۰۰۰٬۰۰۰ تومان', 'نقطه عرضی': 35.652259962759, 'نقطه طولی': 51.298869991933}\n",
      "{'محله': 'poonak', 'طبقه': '۱۱ از ۱۰', 'سال ساخت': '۱۴۰۳', 'تعداد اتاق': '۲', 'متراژ': '۱۰۰', 'آسانسور': True, 'پارکینگ': True, 'انباری': True, 'قیمت کل': 19499999232, 'قیمت هر متر ': '۱۹۵٬۰۰۰٬۰۰۰ تومان', 'نقطه عرضی': 35.764864959002, 'نقطه طولی': 51.337833548618}\n",
      "{'محله': 'minabi', 'طبقه': '۳ از ۴', 'سال ساخت': '۱۳۹۵', 'تعداد اتاق': '۱', 'متراژ': '۵۳', 'آسانسور': True, 'پارکینگ': True, 'انباری': True, 'قیمت کل': 2500000000, 'قیمت هر متر ': '۴۷٬۱۶۹٬۰۰۰ تومان', 'نقطه عرضی': 'ندارد', 'نقطه طولی': 'ندارد'}\n",
      "{'محله': 'azarbaijan', 'طبقه': '۲ از ۴', 'سال ساخت': '۱۴۰۰', 'تعداد اتاق': '۱', 'متراژ': '۵۴', 'آسانسور': True, 'پارکینگ': 'ندارد', 'انباری': True, 'قیمت کل': 2449999872, 'قیمت هر متر ': '۴۵٬۳۷۰٬۰۰۰ تومان', 'نقطه عرضی': 35.696514, 'نقطه طولی': 51.3747}\n",
      "{'محله': 'chitgar-lake', 'طبقه': '۱ از ۱۶', 'سال ساخت': '۱۴۰۳', 'تعداد اتاق': '۲', 'متراژ': '۱۳۱', 'آسانسور': True, 'پارکینگ': True, 'انباری': True, 'قیمت کل': 14410000384, 'قیمت هر متر ': '۱۱۰٬۰۰۰٬۰۰۰ تومان', 'نقطه عرضی': 35.743527448738, 'نقطه طولی': 51.216333334544}\n",
      "{'محله': 'zafaraniyeh', 'طبقه': '۱', 'سال ساخت': '۱۳۸۴', 'تعداد اتاق': '۳', 'متراژ': '۲۰۷', 'آسانسور': True, 'پارکینگ': True, 'انباری': True, 'قیمت کل': 41000001536, 'قیمت هر متر ': '۱۹۸٬۰۶۷٬۰۰۰ تومان', 'نقطه عرضی': 35.809072819161, 'نقطه طولی': 51.412569280852}\n",
      "{'محله': 'gholhak', 'طبقه': '۱ از ۵', 'سال ساخت': '۱۴۰۲', 'تعداد اتاق': '۳', 'متراژ': '۲۰۰', 'آسانسور': True, 'پارکینگ': True, 'انباری': True, 'قیمت کل': 38999998464, 'قیمت هر متر ': '۱۹۵٬۰۰۰٬۰۰۰ تومان', 'نقطه عرضی': 'ندارد', 'نقطه طولی': 'ندارد'}\n",
      "{'محله': 'bahar', 'طبقه': '۲ از ۴', 'سال ساخت': '۱۳۷۸', 'تعداد اتاق': '۱', 'متراژ': '۴۵', 'آسانسور': True, 'پارکینگ': True, 'انباری': True, 'قیمت کل': 3849999872, 'قیمت هر متر ': '۸۵٬۵۵۵٬۰۰۰ تومان', 'نقطه عرضی': 'ندارد', 'نقطه طولی': 'ندارد'}\n",
      "{'محله': 'tolid-daroo', 'طبقه': '۵', 'سال ساخت': '۱۴۰۰', 'تعداد اتاق': '۳', 'متراژ': '۱۱۸', 'آسانسور': 'ندارد', 'پارکینگ': 'ندارد', 'انباری': True, 'قیمت کل': 66500000, 'قیمت هر متر ': '۵۶۳٬۰۰۰ تومان', 'نقطه عرضی': 'ندارد', 'نقطه طولی': 'ندارد'}\n",
      "{'محله': 'qeytariyeh', 'طبقه': '۱ از ۴', 'سال ساخت': '۱۳۸۹', 'تعداد اتاق': '۲', 'متراژ': '۱۲۲', 'آسانسور': True, 'پارکینگ': True, 'انباری': True, 'قیمت کل': 19000000512, 'قیمت هر متر ': '۱۵۵٬۷۳۷٬۰۰۰ تومان', 'نقطه عرضی': 35.791975664436, 'نقطه طولی': 51.451141178369}\n",
      "{'محله': 'shahr-e-ziba', 'طبقه': '۱', 'سال ساخت': '۱۳۹۹', 'تعداد اتاق': '۲', 'متراژ': '۷۱', 'آسانسور': True, 'پارکینگ': True, 'انباری': True, 'قیمت کل': 3800000000, 'قیمت هر متر ': '۵۳٬۵۲۱٬۰۰۰ تومان', 'نقطه عرضی': 35.747169270027, 'نقطه طولی': 51.29061093442}\n",
      "{'محله': 'south-janat-abad', 'طبقه': '۵ از ۵', 'سال ساخت': '۱۳۹۴', 'تعداد اتاق': '۳', 'متراژ': '۱۳۵', 'آسانسور': 'ندارد', 'پارکینگ': True, 'انباری': True, 'قیمت کل': 17500000256, 'قیمت هر متر ': '۱۲۹٬۶۲۹٬۰۰۰ تومان', 'نقطه عرضی': 35.747169270027, 'نقطه طولی': 51.29061093442}\n",
      "{'محله': 'hasan-abad-shomali', 'طبقه': '۲ از ۵', 'سال ساخت': '۱۳۸۶', 'تعداد اتاق': '۲', 'متراژ': '۷۰', 'آسانسور': True, 'پارکینگ': True, 'انباری': True, 'قیمت کل': 5800000000, 'قیمت هر متر ': '۸۲٬۸۵۷٬۰۰۰ تومان', 'نقطه عرضی': 'ندارد', 'نقطه طولی': 'ندارد'}\n",
      "{'محله': 'hashemi', 'طبقه': '۲ از ۵', 'سال ساخت': '۱۴۰۳', 'تعداد اتاق': '۱', 'متراژ': '۵۸', 'آسانسور': True, 'پارکینگ': 'ندارد', 'انباری': True, 'قیمت کل': 3100000000, 'قیمت هر متر ': '۵۳٬۴۴۸٬۰۰۰ تومان', 'نقطه عرضی': 35.687952642943, 'نقطه طولی': 51.356366382064}\n",
      "{'محله': 'nosrat', 'طبقه': '۱۰ از ۱۶', 'سال ساخت': '۱۴۰۳', 'تعداد اتاق': '۳', 'متراژ': '۱۴۰', 'آسانسور': True, 'پارکینگ': 'ندارد', 'انباری': True, 'قیمت کل': 4400000000, 'قیمت هر متر ': '۳۱٬۴۲۸٬۰۰۰ تومان', 'نقطه عرضی': 'ندارد', 'نقطه طولی': 'ندارد'}\n",
      "{'محله': 'soleymani', 'طبقه': '۳', 'سال ساخت': '۱۳۹۳', 'تعداد اتاق': '۱', 'متراژ': '۵۲', 'آسانسور': True, 'پارکینگ': True, 'انباری': True, 'قیمت کل': 2950000128, 'قیمت هر متر ': '۵۶٬۷۳۰٬۰۰۰ تومان', 'نقطه عرضی': 'ندارد', 'نقطه طولی': 'ندارد'}\n",
      "{'محله': 'bolursazi', 'طبقه': '۱ از ۴', 'سال ساخت': '۱۳۹۰', 'تعداد اتاق': '۱', 'متراژ': '۴۷', 'آسانسور': True, 'پارکینگ': 'ندارد', 'انباری': True, 'قیمت کل': 2300000000, 'قیمت هر متر ': '۴۸٬۹۳۶٬۰۰۰ تومان', 'نقطه عرضی': 'ندارد', 'نقطه طولی': 'ندارد'}\n",
      "{'محله': 'yousef-abad', 'طبقه': '۴ از ۴', 'سال ساخت': '۱۳۷۱', 'تعداد اتاق': '۲', 'متراژ': '۱۰۸', 'آسانسور': True, 'پارکینگ': 'ندارد', 'انباری': True, 'قیمت کل': 7498999808, 'قیمت هر متر ': '۶۹٬۴۳۵٬۰۰۰ تومان', 'نقطه عرضی': 35.742892892521, 'نقطه طولی': 51.405135217676}\n",
      "{'محله': 'central-janat-abad', 'طبقه': '۵ از ۱۰', 'سال ساخت': '۱۳۸۴', 'تعداد اتاق': '۲', 'متراژ': '۸۸', 'آسانسور': 'ندارد', 'پارکینگ': 'ندارد', 'انباری': True, 'قیمت کل': 8099999744, 'قیمت هر متر ': '۹۲٬۰۴۵٬۰۰۰ تومان', 'نقطه عرضی': 35.754117534045, 'نقطه طولی': 51.30340504645}\n",
      "{'محله': 'south-shahran', 'طبقه': '۳ از ۴', 'سال ساخت': '۱۳۸۰', 'تعداد اتاق': '۱', 'متراژ': '۵۸', 'آسانسور': True, 'پارکینگ': 'ندارد', 'انباری': True, 'قیمت کل': 4499999744, 'قیمت هر متر ': '۷۷٬۵۸۶٬۰۰۰ تومان', 'نقطه عرضی': 35.759130086382, 'نقطه طولی': 51.291776020806}\n",
      "{'محله': 'abbas-abad', 'طبقه': '۳ از ۵', 'سال ساخت': '۱۳۹۲', 'تعداد اتاق': '۲', 'متراژ': '۶۹', 'آسانسور': 'ندارد', 'پارکینگ': 'ندارد', 'انباری': True, 'قیمت کل': 9499999993856, 'قیمت هر متر ': '۱۳۷٬۶۸۱٬۱۵۹٬۰۰۰ تومان', 'نقطه عرضی': 35.730230705975, 'نقطه طولی': 51.437984382196}\n",
      "{'محله': 'moqadam', 'طبقه': '۱ از ۵', 'سال ساخت': '۱۴۰۲', 'تعداد اتاق': '۲', 'متراژ': '۷۵', 'آسانسور': True, 'پارکینگ': True, 'انباری': True, 'قیمت کل': 4000000000, 'قیمت هر متر ': '۵۳٬۳۳۳٬۰۰۰ تومان', 'نقطه عرضی': 'ندارد', 'نقطه طولی': 'ندارد'}\n",
      "{'محله': 'chitgar', 'طبقه': '۲۷', 'سال ساخت': '۱۴۰۳', 'تعداد اتاق': '۲', 'متراژ': '۱۰۰', 'آسانسور': True, 'پارکینگ': True, 'انباری': 'ندارد', 'قیمت کل': 3000000000, 'قیمت هر متر ': '۳۰٬۰۰۰٬۰۰۰ تومان', 'نقطه عرضی': 'ندارد', 'نقطه طولی': 'ندارد'}\n",
      "{'محله': 'south-janat-abad', 'طبقه': '۴ از ۵', 'سال ساخت': '۱۳۸۰', 'تعداد اتاق': '۲', 'متراژ': '۱۱۷', 'آسانسور': True, 'پارکینگ': True, 'انباری': True, 'قیمت کل': 10990000128, 'قیمت هر متر ': '۹۳٬۹۳۱٬۰۰۰ تومان', 'نقطه عرضی': 35.746022003806, 'نقطه طولی': 51.306099298499}\n",
      "{'محله': 'dr-hoshyar', 'طبقه': '۴', 'سال ساخت': '۱۳۹۰', 'تعداد اتاق': '۱', 'متراژ': '۶۰', 'آسانسور': True, 'پارکینگ': True, 'انباری': 'ندارد', 'قیمت کل': 4800000000, 'قیمت هر متر ': '۸۰٬۰۰۰٬۰۰۰ تومان', 'نقطه عرضی': 'ندارد', 'نقطه طولی': 'ندارد'}\n",
      "{'محله': 'kooy-e-ferdos', 'طبقه': '۲ از ۵', 'سال ساخت': '۱۳۹۰', 'تعداد اتاق': '۲', 'متراژ': '۸۰', 'آسانسور': True, 'پارکینگ': True, 'انباری': 'ندارد', 'قیمت کل': 8200000000, 'قیمت هر متر ': '۱۰۲٬۵۰۰٬۰۰۰ تومان', 'نقطه عرضی': 35.729229971453, 'نقطه طولی': 51.315886319624}\n",
      "{'محله': 'chitgar', 'طبقه': '۱۰ از ۱۵', 'سال ساخت': '۱۴۰۳', 'تعداد اتاق': '۲', 'متراژ': '۱۰۰', 'آسانسور': True, 'پارکینگ': True, 'انباری': True, 'قیمت کل': 800000000, 'قیمت هر متر ': '۸٬۰۰۰٬۰۰۰ تومان', 'نقطه عرضی': 35.72567176813, 'نقطه طولی': 51.186002280234}\n",
      "{'محله': 'north-sohrevardi', 'طبقه': '۳', 'سال ساخت': '۱۴۰۲', 'تعداد اتاق': '۲', 'متراژ': '۱۲۰', 'آسانسور': True, 'پارکینگ': True, 'انباری': True, 'قیمت کل': 20000000000, 'قیمت هر متر ': '۱۶۶٬۶۶۶٬۰۰۰ تومان', 'نقطه عرضی': 'ندارد', 'نقطه طولی': 'ندارد'}\n",
      "{'محله': 'bagh-feyz', 'طبقه': '۳ از ۵', 'سال ساخت': '۱۳۹۰', 'تعداد اتاق': '۲', 'متراژ': '۹۰', 'آسانسور': True, 'پارکینگ': True, 'انباری': True, 'قیمت کل': 8499999744, 'قیمت هر متر ': '۹۴٬۴۴۴٬۰۰۰ تومان', 'نقطه عرضی': 'ندارد', 'نقطه طولی': 'ندارد'}\n",
      "{'محله': 'azarbaijan', 'طبقه': '۳ از ۵', 'سال ساخت': '۱۳۸۳', 'تعداد اتاق': '۱', 'متراژ': '۵۱', 'آسانسور': True, 'پارکینگ': True, 'انباری': True, 'قیمت کل': 4499999744, 'قیمت هر متر ': '۸۸٬۲۳۵٬۰۰۰ تومان', 'نقطه عرضی': 35.69881890359, 'نقطه طولی': 51.374630113078}\n",
      "{'محله': 'daryan-no', 'طبقه': '۴ از ۶', 'سال ساخت': '۱۳۹۵', 'تعداد اتاق': '۲', 'متراژ': '۸۲', 'آسانسور': True, 'پارکینگ': True, 'انباری': True, 'قیمت کل': 9100000256, 'قیمت هر متر ': '۱۱۰٬۹۷۵٬۰۰۰ تومان', 'نقطه عرضی': 'ندارد', 'نقطه طولی': 'ندارد'}\n",
      "{'محله': 'niloufar', 'طبقه': 'همکف', 'سال ساخت': '۱۳۷۵', 'تعداد اتاق': '۲', 'متراژ': '۱۰۷', 'آسانسور': True, 'پارکینگ': True, 'انباری': True, 'قیمت کل': 8449999872, 'قیمت هر متر ': '۷۸٬۹۷۱٬۰۰۰ تومان', 'نقطه عرضی': 'ندارد', 'نقطه طولی': 'ندارد'}\n",
      "{'محله': 'niloufar', 'طبقه': '۱ از ۵', 'سال ساخت': '۱۴۰۳', 'تعداد اتاق': '۲', 'متراژ': '۸۵', 'آسانسور': 'ندارد', 'پارکینگ': True, 'انباری': True, 'قیمت کل': 15500000256, 'قیمت هر متر ': '۱۸۲٬۳۵۲٬۰۰۰ تومان', 'نقطه عرضی': 35.734764480817, 'نقطه طولی': 51.441075739142}\n",
      "{'محله': 'sarsabil', 'طبقه': '۲ از ۴', 'سال ساخت': '۱۴۰۳', 'تعداد اتاق': '۱', 'متراژ': '۵۵', 'آسانسور': True, 'پارکینگ': True, 'انباری': True, 'قیمت کل': 4000000000, 'قیمت هر متر ': '۷۲٬۷۲۷٬۰۰۰ تومان', 'نقطه عرضی': 35.683770608056, 'نقطه طولی': 51.373951681745}\n",
      "{'محله': 'dezashib', 'طبقه': '۳ از ۵', 'سال ساخت': '۱۴۰۳', 'تعداد اتاق': '۲', 'متراژ': '۱۲۲', 'آسانسور': True, 'پارکینگ': True, 'انباری': True, 'قیمت کل': 27399999488, 'قیمت هر متر ': '۲۲۴٬۵۹۰٬۰۰۰ تومان', 'نقطه عرضی': 35.683770608056, 'نقطه طولی': 51.373951681745}\n",
      "{'محله': 'mahmoodiyeh', 'طبقه': '۲ از ۵', 'سال ساخت': '۱۳۹۵', 'تعداد اتاق': '۲', 'متراژ': '۱۴۵', 'آسانسور': True, 'پارکینگ': True, 'انباری': True, 'قیمت کل': 32914999296, 'قیمت هر متر ': '۲۲۷٬۰۰۰٬۰۰۰ تومان', 'نقطه عرضی': 35.794320074769, 'نقطه طولی': 51.40920009881}\n",
      "{'محله': 'tehranvila', 'طبقه': '۲ از ۵', 'سال ساخت': '۱۴۰۳', 'تعداد اتاق': '۲', 'متراژ': '۱۲۷', 'آسانسور': True, 'پارکینگ': True, 'انباری': True, 'قیمت کل': 18200000512, 'قیمت هر متر ': '۱۴۳٬۳۰۷٬۰۰۰ تومان', 'نقطه عرضی': 35.726447597059, 'نقطه طولی': 51.369260540547}\n",
      "{'محله': 'eram', 'طبقه': '۵ از ۵', 'سال ساخت': '۱۴۰۱', 'تعداد اتاق': '۳', 'متراژ': '۱۲۶', 'آسانسور': True, 'پارکینگ': True, 'انباری': True, 'قیمت کل': 14499999744, 'قیمت هر متر ': '۱۱۵٬۰۷۹٬۰۰۰ تومان', 'نقطه عرضی': 'ندارد', 'نقطه طولی': 'ندارد'}\n",
      "{'محله': 'shahrak-e-gharb', 'طبقه': '۱۱ از ۱۱', 'سال ساخت': '۱۴۰۰', 'تعداد اتاق': '۳', 'متراژ': '۲۲۶', 'آسانسور': True, 'پارکینگ': True, 'انباری': True, 'قیمت کل': 73999998976, 'قیمت هر متر ': '۳۲۷٬۴۳۳٬۰۰۰ تومان', 'نقطه عرضی': 35.763681845637, 'نقطه طولی': 51.357522010803}\n",
      "{'محله': 'andisheh', 'طبقه': '۳ از ۴', 'سال ساخت': '۱۴۰۲', 'تعداد اتاق': '۱', 'متراژ': '۵۳', 'آسانسور': True, 'پارکینگ': True, 'انباری': True, 'قیمت کل': 1130000000, 'قیمت هر متر ': '۲۱٬۳۲۰٬۰۰۰ تومان', 'نقطه عرضی': 35.747015374278, 'نقطه طولی': 51.278040658261}\n",
      "{'محله': 'shahrak-farhangian', 'طبقه': '۴', 'سال ساخت': '۱۳۹۷', 'تعداد اتاق': '۳', 'متراژ': '۸۰', 'آسانسور': True, 'پارکینگ': True, 'انباری': True, 'قیمت کل': 1230000000, 'قیمت هر متر ': '۱۵٬۳۷۵٬۰۰۰ تومان', 'نقطه عرضی': 35.709535325582, 'نقطه طولی': 51.283399213117}\n",
      "{'محله': 'saadat-abad', 'طبقه': '۳ از ۷', 'سال ساخت': '۱۴۰۳', 'تعداد اتاق': '۲', 'متراژ': '۹۳', 'آسانسور': True, 'پارکینگ': True, 'انباری': True, 'قیمت کل': 14599999488, 'قیمت هر متر ': '۱۵۶٬۹۸۹٬۰۰۰ تومان', 'نقطه عرضی': 'ندارد', 'نقطه طولی': 'ندارد'}\n",
      "{'محله': 'velenjak', 'طبقه': '۶', 'سال ساخت': '۱۳۸۶', 'تعداد اتاق': '۲', 'متراژ': '۱۲۰', 'آسانسور': True, 'پارکینگ': True, 'انباری': True, 'قیمت کل': 25999998976, 'قیمت هر متر ': '۲۱۶٬۶۶۶٬۰۰۰ تومان', 'نقطه عرضی': 35.803961838551, 'نقطه طولی': 51.403505802155}\n",
      "Your data has been saved to Divar_houses_data.xlsx!\n"
     ]
    }
   ],
   "source": [
    "#Reitreiving all Informations about Apartment-sells advertisments for Tehran  in www.Divar.ir with JSON based Webscraping \n",
    "#This can be adapted for other categories of advertisements\n",
    "\n",
    "#Input the number of advertisements to retrieve \n",
    "number = int(input(\"Please enter number of advertisments :  \")) \n",
    "\n",
    "\n",
    "#Main API link for Divar \n",
    "url = 'https://api.divar.ir/v8/postlist/w/search'\n",
    "\n",
    "\n",
    "#Lists to hold tokens and advertisement data\n",
    "tokens = []\n",
    "list_data_description =[]\n",
    "ad_Meterage_list = []\n",
    "data_response_descriptions=[]\n",
    "ad_list=[]\n",
    "url_ad_list=[]\n",
    "\n",
    "# Handling connection issues (e.g., not connected to the Internet or VPN)  \n",
    "try :\n",
    " headers = {\n",
    "        'User-Agent': 'Mozilla/5.0 (Windows NT 10.0; Win64; x64) AppleWebKit/537.36 (KHTML, like Gecko) Chrome/126.0.0.0 Safari/537.36',\n",
    "        'Content-Type': 'application/json'}\n",
    " session = requests.session()\n",
    " first_data = {\"city_ids\": [\"1\"], \"source_view\": \"CATEGORY\",\n",
    "                  \"search_data\": {\"form_data\": {\"data\": {\"category\": {\"str\": {\"value\": \"apartment-sell\"}}}}}}\n",
    " r = session.post(url, headers=headers, json=first_data)\n",
    "\n",
    " data_dict = r.json()['pagination']\n",
    "\n",
    " last_post_date = data_dict['data']['last_post_date']\n",
    "\n",
    " searchuid = data_dict['data']['search_uid']\n",
    "except:\n",
    "    print('----------------------------------------------------------')\n",
    "    print('check your connection to Internet or not connected to VPN!')\n",
    "    print('----------------------------------------------------------')\n",
    "\n",
    " \n",
    "\n",
    "  \n",
    "# retrieving list of tokens of advertisements \n",
    "i = 1\n",
    "while len(tokens) < number:\n",
    "        data = {\"city_ids\": [\"1\"],\n",
    "                \"pagination_data\": {\"@type\": \"type.googleapis.com/post_list.PaginationData\",\n",
    "                                    \"last_post_date\": last_post_date, \"page\": i, \"layer_page\": i,\n",
    "                                    \"search_uid\": searchuid}, \"search_data\": {\"form_data\": {\n",
    "                \"data\": {\"category\": {\"str\": {\"value\": \"apartment-sell\"}}, \"sort\": {\"str\": {\"value\": \"sort_date\"}}}}}}\n",
    "\n",
    "        r = session.post(url, headers=headers, json=data)\n",
          if r.status_code == 200:
            try :
              json_file = r.json()
              post_list = json_file['list_widgets']
              # Update pagination information for the next request  
              last_post_date = json_file['pagination']['data']['last_post_date']
              searchuid = json_file['pagination']['data']['search_uid']
              # Extract tokens from the response
              for post in post_list:
                  token = post['data']['action']['payload']['token']
                  tokens.append(token)
            except Exception as e: 
              print('------------------')
              print('status code error!')
              print('------------------')
              print(f"error in : {e}")

#getting advertisment URL links      
for token in tokens:  
    url_description = f'https://api.divar.ir/v8/posts-v2/web/{token}'  
    url_ad = f'https://divar.ir/v/{token}'  
    headers = {  
        'User-Agent': 'Mozilla/5.0 (Windows NT 10.0; Win64; x64) AppleWebKit/537.36 (KHTML, like Gecko) Chrome/131.0.0.0 Safari/537.36',  
        'Content-Type': 'application/json'  
    }  
    session_adv = requests.session()  
    
    response_description = session_adv.get(url_description, headers=headers)   
    time.sleep(0.6)  # handling error 429  
    
    if response_description.status_code == 200:  
      try:  
            data_response_description = response_description.json()  
            data_response_descriptions.append(data_response_description)  
            url_ad_list.append(url_ad)  
      except :  
            print("Failed to decode JSON from response.")  
            print("Response text:", response_description.text)  # Print the raw response  
    else:  
        print(f"Error: Received status code {response_description.status_code}")  
        print("Response text:", response_description.text)  # Print the raw response 
        #print(url_ad)
    "\n",
    "#print(tokens)\n",
    "#print(len(data_response_descriptions))\n",
    "\n",
    "\n",
    "\n",
    "# Extracting advertisement details \n",
    "for data in data_response_descriptions:\n",
    "\n",
    "  for widget in data['sections'] :\n",
    "    \n",
    "    ad_dict = {}\n",
    "\n",
    "    try :\n",
    "        for data_of_houses in widget['widgets']:\n",
    "          \n",
    "          if data_of_houses['widget_type'] == 'MAP_ROW' :\n",
    "                try:\n",
    "                  ad_latitude = data_of_houses['data']['location']['exact_data']['point']['latitude']\n",
    "                except KeyError:\n",
    "                  ad_latitude = 'ندارد'\n",
    "                try:\n",
    "                  ad_longitude = data_of_houses['data']['location']['exact_data']['point']['longitude']\n",
    "                except KeyError:\n",
    "                  ad_longitude = 'ندارد'\n",
    "\n",
    "          elif data_of_houses['widget_type'] == 'GROUP_INFO_ROW' :\n",
    "                try:\n",
    "                  ad_Meterage = data_of_houses['data']['items'][0]['value']\n",
    "                except KeyError:\n",
    "                  ad_Meterage = 'ندارد'\n",
    "                try:\n",
    "                  ad_year = data_of_houses['data']['items'][1]['value']\n",
    "                except KeyError:\n",
    "                  ad_year = 'ندارد'\n",
    "                try:\n",
    "                  ad_room = data_of_houses['data']['items'][2]['value']\n",
    "                except KeyError:\n",
    "                  ad_room = 'ندارد'\n",
    "              \n",
    "          elif data_of_houses['widget_type'] == 'GROUP_FEATURE_ROW' :\n",
    "                try:\n",
    "                  ad_elevator = data_of_houses['data']['items'][0]['available']\n",
    "                except KeyError:\n",
    "                  ad_elevator = 'ندارد'\n",
    "                try:\n",
    "                  ad_parking = data_of_houses['data']['items'][1]['available']\n",
    "                except KeyError:\n",
    "                  ad_parking = 'ندارد'\n",
    "                try:\n",
    "                  ad_warehouse = data_of_houses['data']['items'][2]['available']\n",
    "                except KeyError:\n",
    "                  ad_warehouse = 'ندارد'\n",
    "\n",
    "          elif data_of_houses['widget_type'] == 'UNEXPANDABLE_ROW' and  data_of_houses['data']['title'] == 'قیمت هر متر':\n",
    "                try:\n",
    "                  price_per_meterage = data_of_houses['data']['value']\n",
    "                except KeyError :\n",
    "                  price_per_meterage = 'ندارد' \n",
    "\n",
    "          elif data_of_houses['widget_type'] == 'UNEXPANDABLE_ROW' and  data_of_houses['data']['title'] == 'طبقه':\n",
    "                try:\n",
    "                  floor_ad = data_of_houses['data']['value']\n",
    "                except KeyError :\n",
    "                  floor_ad = 'ندارد'     \n",
    "              \n",
    "                try:\n",
    "                  subtitle_district = data['webengage']['district']\n",
    "                except KeyError:\n",
    "                  subtitle_district = 'ندارد'\n",
    "\n",
    "                try:\n",
    "                  price_ad = data['webengage']['price']\n",
    "                except KeyError:\n",
    "                  price_ad = 'ندارد'\n",
    "\n",
    "                # Update the advertisement dictionary with the collected data \n",
    "                for url in url_ad_list :\n",
    "                   ad_dict.update({'محله': subtitle_district,\n",
    "                                   'طبقه': floor_ad,\n",
    "                                    'سال ساخت': ad_year,\n",
    "                                    'تعداد اتاق': ad_room,\n",
    "                                    'متراژ': ad_Meterage,\n",
    "                                    'آسانسور': ad_elevator,\n",
    "                                    'پارکینگ': ad_parking,\n",
    "                                    'انباری': ad_warehouse,\n",
    "                                    'قیمت کل' : price_ad,\n",
    "                                    'قیمت هر متر ' : price_per_meterage,\n",
    "                                    'نقطه عرضی': ad_latitude,\n",
    "                                    'نقطه طولی': ad_longitude\n",
    "                                 })  \n",
    "                print(ad_dict)\n",
    "                ad_list.append(ad_dict)\n",
    "\n",
    "    except Exception as e:\n",
    "        print(f'\\n Error in processing advertisement data: : \"{e}\"\\n')\n",
    "\n",
    "\n",
    "\n",
    " #Convert the collected data into a DataFrame and save it to an Excel file  \n",
    "if ad_list:  \n",
    "    try:  \n",
    "        df = pd.DataFrame(ad_list)  \n",
    "        output_file = \"Divar_houses_data.xlsx\"  # Specify filename for saved data  \n",
    "        df.to_excel(output_file, index=False)  # Save the DataFrame to an Excel file  \n",
    "        print(f\"Your data has been saved to {output_file}!\")  # Confirmation message  \n",
    "    except Exception as e:  \n",
    "        print(f\"Error saving to Excel: {e}\")  # Print any errors during saving  \n",
    "else:  \n",
    "    print(\"No advertisements collected, Excel file not created.\")  # Notify if no data was collected  \n",
    "\n",
    "\n",
    "\n",
    "\n",
    "\n",
    "        "
   ]
  },
  {
   "cell_type": "code",
   "execution_count": null,
   "metadata": {},
   "outputs": [],
   "source": []
  }
 ],
 "metadata": {
  "kernelspec": {
   "display_name": "Python 3",
   "language": "python",
   "name": "python3"
  },
  "language_info": {
   "codemirror_mode": {
    "name": "ipython",
    "version": 3
   },
   "file_extension": ".py",
   "mimetype": "text/x-python",
   "name": "python",
   "nbconvert_exporter": "python",
   "pygments_lexer": "ipython3",
   "version": "3.9.12"
  }
 },
 "nbformat": 4,
 "nbformat_minor": 2
}
